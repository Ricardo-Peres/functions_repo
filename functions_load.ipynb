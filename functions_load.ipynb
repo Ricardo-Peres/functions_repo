{
 "cells": [
  {
   "cell_type": "markdown",
   "metadata": {},
   "source": [
    "## Function definitions - Loading data"
   ]
  },
  {
   "cell_type": "markdown",
   "metadata": {},
   "source": [
    "Functions defined in this script and their description:\n",
    "* **get_file_list** - returns a list of the files in a given path that match a certain set pattern. Optional to remove a part of the path, like the extension.\n",
    "* **loadrundataset** - given a dataset and a key  returns the loaded minitrees data (*data_run1 = loadrundataset(run= '1'*). Also checks for savenumber equal to the run number in 2018\n",
    "* **loadsingledataset** - loads a single dataset. Needs dataset, accepts tmakers and pre.\n",
    "* **process_runs** - Given a dictionary where each key has a dataset, returns a modified version of such dictionary with the processed data also in each key: *NG_runs = {'run1':dataset_run1, 'run2':dataset_run2, 'run3':dataset_run3, 'run4':dataset_run4}* -> NG_runs = {'run1':[dataset_run1,data_run1], ... ]}"
   ]
  },
  {
   "cell_type": "code",
   "execution_count": null,
   "metadata": {
    "collapsed": true
   },
   "outputs": [],
   "source": [
    "print('Loading data loading functions.')"
   ]
  },
  {
   "cell_type": "code",
   "execution_count": 1,
   "metadata": {
    "collapsed": true
   },
   "outputs": [],
   "source": [
    "# From Erik Hogenbirk's notes and functions\n",
    "def get_file_list(path, pattern, remove_string='', remove_path=True):\n",
    "    '''\n",
    "    Get a liuserst of files matching pattern in path. Optional to remove a part of the path (i.e. the extention)\n",
    "    Optional to remove the path\n",
    "    '''\n",
    "    file_list = glob.glob(path + pattern)\n",
    "    # Remove path\n",
    "    for i, f in enumerate(file_list):\n",
    "        if remove_path:\n",
    "            f = f.replace(path, '')\n",
    "        if remove_string != '':\n",
    "            f = f.replace(remove_string, '')\n",
    "        file_list[i] = f\n",
    "    file_list = np.sort(file_list)\n",
    "    return file_list"
   ]
  },
  {
   "cell_type": "code",
   "execution_count": null,
   "metadata": {
    "collapsed": true
   },
   "outputs": [],
   "source": [
    "def loadrundataset(key,dataset, savenumber, trees, pre):        \n",
    "    if os.path.isfile(cachefolder + 'cachedata_%s_%d.hdf5' %(key,savenumber)) == True:\n",
    "        _data = hax.minitrees.load_cache_file(cachefolder + 'cachedata_%s_%d.hdf5' %(key,savenumber))\n",
    "        print ('Loaded cache file: %s' %(cachefolder + 'cachedata_%s_%d.hdf5' %(key,savenumber)))\n",
    "        return _data\n",
    "    else:\n",
    "        if trees == 'normal':\n",
    "            tmakers = ['Fundamentals', 'Basics', 'Extended', 'Corrections']\n",
    "        elif trees == 'doublescatter':\n",
    "            tmakers = ['Fundamentals','FlashIdentification', 'Basics', 'Extended', 'Corrections','TailCut','TotalProperties', 'Proximity','PositionReconstruction','CorrectedDoubleS1Scatter']\n",
    "        elif trees == 'all':\n",
    "            tmakers = ['Fundamentals','FlashIdentification', 'Basics', 'Extended', 'Corrections','TailCut','TotalProperties', 'Proximity','PositionReconstruction']\n",
    "        else:\n",
    "            tmakers = trees\n",
    "        \n",
    "        dfs = []\n",
    "        run_numbers = dataset['number'].values\n",
    "        for counter,dset in enumerate(run_numbers):\n",
    "            #print ('Loading dataset nr:',dset)\n",
    "            try:\n",
    "                df_temp = hax.minitrees.load(dset, \n",
    "                                         treemakers = tmakers,\n",
    "                                         preselection = pre)\n",
    "                dfs.append(df_temp)\n",
    "                if counter %10 ==0:\n",
    "                    print (counter,'/',len(run_numbers))\n",
    "            except:\n",
    "                print('bad dataset: %d'%dset)\n",
    "                continue\n",
    "        _data = pd.concat(dfs)\n",
    "        hax.minitrees.save_cache_file(_data, cachefolder + 'cachedata_%s_%d.hdf5' %(key,savenumber))\n",
    "        return _data"
   ]
  },
  {
   "cell_type": "code",
   "execution_count": null,
   "metadata": {
    "collapsed": true
   },
   "outputs": [],
   "source": [
    "def loadsingledataset(dataset, \n",
    "              tmakers = ['Fundamentals','FlashIdentification', 'Basics', 'Extended', 'Corrections','TailCut','TotalProperties', 'Proximity','PositionReconstruction'],\n",
    "              pre = ['cs1 < 200', 'cs1 > 0', 'cs2 > 0']):\n",
    "    dfs = []\n",
    "    run_numbers = dataset['number'].values\n",
    "    for counter,dset in enumerate(run_numbers):\n",
    "        if counter %10 ==0:\n",
    "            print (counter,'/',len(run_numbers))\n",
    "        print ('Loading dataset nr:',dset)\n",
    "        df_temp = hax.minitrees.load(dset, \n",
    "                                     treemakers = tmakers,\n",
    "                                     preselection = pre)\n",
    "        dfs.append(df_temp)\n",
    "        \n",
    "    _data = pd.concat(dfs)\n",
    "    return _data"
   ]
  },
  {
   "cell_type": "code",
   "execution_count": null,
   "metadata": {
    "collapsed": true
   },
   "outputs": [],
   "source": [
    "def process_runs(run_dict, savenumber, trees = 'normal', pre = ['cs1 < 200', 'cs1 > 0', 'cs2 > 0']):\n",
    "    keys = run_dict.keys()\n",
    "    for key in keys:\n",
    "        _dataset = run_dict[key][0]\n",
    "        _data = loadrundataset(key,_dataset, trees = trees, pre = pre, savenumber = savenumber)\n",
    "        _dataset.name=key\n",
    "        _data.name=key\n",
    "        run_dict[key] = [_dataset,_data]\n",
    "    return run_dict"
   ]
  }
 ],
 "metadata": {
  "kernelspec": {
   "display_name": "Python 3",
   "language": "python",
   "name": "python3"
  },
  "language_info": {
   "codemirror_mode": {
    "name": "ipython",
    "version": 3
   },
   "file_extension": ".py",
   "mimetype": "text/x-python",
   "name": "python",
   "nbconvert_exporter": "python",
   "pygments_lexer": "ipython3",
   "version": "3.4.4"
  }
 },
 "nbformat": 4,
 "nbformat_minor": 2
}
